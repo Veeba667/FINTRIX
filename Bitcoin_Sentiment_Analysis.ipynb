{
 "cells": [
  {
   "cell_type": "markdown",
   "id": "1f3047e8-99d0-400b-ba18-2179a3dc4a0a",
   "metadata": {},
   "source": [
    "### Importing necessary libraries-"
   ]
  },
  {
   "cell_type": "code",
   "execution_count": 1,
   "id": "3c7f3a85-d73c-4389-b599-a9bca1e23266",
   "metadata": {},
   "outputs": [],
   "source": [
    "import numpy as np\n",
    "import pandas as pd\n",
    "from datetime import datetime\n",
    "from sklearn.linear_model import LinearRegression\n",
    "from sklearn.ensemble import RandomForestRegressor"
   ]
  },
  {
   "cell_type": "markdown",
   "id": "958c9b34-c6ae-4e63-8ff6-db823bf8e136",
   "metadata": {},
   "source": [
    "### Reading the dataset-"
   ]
  },
  {
   "cell_type": "code",
   "execution_count": 2,
   "id": "afff775f-06c5-4d45-8bb3-bc9b5750eb80",
   "metadata": {},
   "outputs": [
    {
     "data": {
      "text/html": [
       "<div>\n",
       "<style scoped>\n",
       "    .dataframe tbody tr th:only-of-type {\n",
       "        vertical-align: middle;\n",
       "    }\n",
       "\n",
       "    .dataframe tbody tr th {\n",
       "        vertical-align: top;\n",
       "    }\n",
       "\n",
       "    .dataframe thead th {\n",
       "        text-align: right;\n",
       "    }\n",
       "</style>\n",
       "<table border=\"1\" class=\"dataframe\">\n",
       "  <thead>\n",
       "    <tr style=\"text-align: right;\">\n",
       "      <th></th>\n",
       "      <th>Unnamed: 0</th>\n",
       "      <th>mdy</th>\n",
       "      <th>date</th>\n",
       "      <th>content</th>\n",
       "      <th>likes</th>\n",
       "      <th>retweets</th>\n",
       "      <th>Sentiment</th>\n",
       "    </tr>\n",
       "  </thead>\n",
       "  <tbody>\n",
       "    <tr>\n",
       "      <th>0</th>\n",
       "      <td>0</td>\n",
       "      <td>06-03-2023</td>\n",
       "      <td>2023-03-06 23:58:49+00:00</td>\n",
       "      <td>girl explain bitcoin</td>\n",
       "      <td>501</td>\n",
       "      <td>140</td>\n",
       "      <td>1</td>\n",
       "    </tr>\n",
       "    <tr>\n",
       "      <th>1</th>\n",
       "      <td>1</td>\n",
       "      <td>06-03-2023</td>\n",
       "      <td>2023-03-06 23:58:07+00:00</td>\n",
       "      <td>roughly hour leave pulsechain testnet fully sy...</td>\n",
       "      <td>32</td>\n",
       "      <td>1</td>\n",
       "      <td>1</td>\n",
       "    </tr>\n",
       "    <tr>\n",
       "      <th>2</th>\n",
       "      <td>2</td>\n",
       "      <td>06-03-2023</td>\n",
       "      <td>2023-03-06 23:57:47+00:00</td>\n",
       "      <td>come join conversation bitcoin fix hood americ...</td>\n",
       "      <td>24</td>\n",
       "      <td>1</td>\n",
       "      <td>1</td>\n",
       "    </tr>\n",
       "    <tr>\n",
       "      <th>3</th>\n",
       "      <td>3</td>\n",
       "      <td>06-03-2023</td>\n",
       "      <td>2023-03-06 23:54:57+00:00</td>\n",
       "      <td>get haircut pay bitcoin feel good always offer...</td>\n",
       "      <td>14</td>\n",
       "      <td>0</td>\n",
       "      <td>1</td>\n",
       "    </tr>\n",
       "    <tr>\n",
       "      <th>4</th>\n",
       "      <td>4</td>\n",
       "      <td>06-03-2023</td>\n",
       "      <td>2023-03-06 23:54:52+00:00</td>\n",
       "      <td>bitcoin usd weekly wrong bearish rising wedge ...</td>\n",
       "      <td>721</td>\n",
       "      <td>65</td>\n",
       "      <td>0</td>\n",
       "    </tr>\n",
       "  </tbody>\n",
       "</table>\n",
       "</div>"
      ],
      "text/plain": [
       "   Unnamed: 0         mdy                       date  \\\n",
       "0           0  06-03-2023  2023-03-06 23:58:49+00:00   \n",
       "1           1  06-03-2023  2023-03-06 23:58:07+00:00   \n",
       "2           2  06-03-2023  2023-03-06 23:57:47+00:00   \n",
       "3           3  06-03-2023  2023-03-06 23:54:57+00:00   \n",
       "4           4  06-03-2023  2023-03-06 23:54:52+00:00   \n",
       "\n",
       "                                             content  likes  retweets  \\\n",
       "0                               girl explain bitcoin    501       140   \n",
       "1  roughly hour leave pulsechain testnet fully sy...     32         1   \n",
       "2  come join conversation bitcoin fix hood americ...     24         1   \n",
       "3  get haircut pay bitcoin feel good always offer...     14         0   \n",
       "4  bitcoin usd weekly wrong bearish rising wedge ...    721        65   \n",
       "\n",
       "   Sentiment  \n",
       "0          1  \n",
       "1          1  \n",
       "2          1  \n",
       "3          1  \n",
       "4          0  "
      ]
     },
     "execution_count": 2,
     "metadata": {},
     "output_type": "execute_result"
    }
   ],
   "source": [
    "df = pd.read_csv(\"./Data/BitcoinTweetWithSentiment.csv\")\n",
    "df.head()"
   ]
  },
  {
   "cell_type": "code",
   "execution_count": 3,
   "id": "10e829f0-4775-4aa7-887a-aac0c8cfd991",
   "metadata": {},
   "outputs": [
    {
     "data": {
      "text/plain": [
       "(354893, 7)"
      ]
     },
     "execution_count": 3,
     "metadata": {},
     "output_type": "execute_result"
    }
   ],
   "source": [
    "df.shape"
   ]
  },
  {
   "cell_type": "markdown",
   "id": "0ee6f15d-72de-41fc-b41e-6acecd1011b6",
   "metadata": {},
   "source": [
    "### Dropping unnecessary columns from the dataset-"
   ]
  },
  {
   "cell_type": "code",
   "execution_count": 4,
   "id": "0b524d9b-e3f0-4701-8c65-7c075007be16",
   "metadata": {},
   "outputs": [],
   "source": [
    "df.drop(df.columns[0], axis=1, inplace=True)"
   ]
  },
  {
   "cell_type": "code",
   "execution_count": 5,
   "id": "1342b109-3afc-4430-9a57-b1a501cae239",
   "metadata": {},
   "outputs": [
    {
     "name": "stdout",
     "output_type": "stream",
     "text": [
      "<class 'pandas.core.frame.DataFrame'>\n",
      "RangeIndex: 354893 entries, 0 to 354892\n",
      "Data columns (total 6 columns):\n",
      " #   Column     Non-Null Count   Dtype \n",
      "---  ------     --------------   ----- \n",
      " 0   mdy        354893 non-null  object\n",
      " 1   date       354893 non-null  object\n",
      " 2   content    354893 non-null  object\n",
      " 3   likes      354893 non-null  int64 \n",
      " 4   retweets   354893 non-null  int64 \n",
      " 5   Sentiment  354893 non-null  int64 \n",
      "dtypes: int64(3), object(3)\n",
      "memory usage: 16.2+ MB\n"
     ]
    }
   ],
   "source": [
    "df.info()"
   ]
  },
  {
   "cell_type": "markdown",
   "id": "3cd2ce21-2e25-4d95-a394-520fbcfef0ca",
   "metadata": {},
   "source": [
    "### Converting the 'mdy' and 'date' columns to datetime format-"
   ]
  },
  {
   "cell_type": "code",
   "execution_count": 6,
   "id": "d2ea2e95-da05-4ff7-ad5f-835e57fa2238",
   "metadata": {},
   "outputs": [],
   "source": [
    "df['date'] = df['date'].apply(lambda x: x.split('+')[0])\n",
    "df[['mdy', 'date']] = df[['mdy', 'date']].apply(pd.to_datetime, format='mixed')"
   ]
  },
  {
   "cell_type": "code",
   "execution_count": 7,
   "id": "2e85b5cf-6ad2-4c0e-af53-dde113cf9426",
   "metadata": {},
   "outputs": [
    {
     "name": "stdout",
     "output_type": "stream",
     "text": [
      "<class 'pandas.core.frame.DataFrame'>\n",
      "RangeIndex: 354893 entries, 0 to 354892\n",
      "Data columns (total 6 columns):\n",
      " #   Column     Non-Null Count   Dtype         \n",
      "---  ------     --------------   -----         \n",
      " 0   mdy        354893 non-null  datetime64[ns]\n",
      " 1   date       354893 non-null  datetime64[ns]\n",
      " 2   content    354893 non-null  object        \n",
      " 3   likes      354893 non-null  int64         \n",
      " 4   retweets   354893 non-null  int64         \n",
      " 5   Sentiment  354893 non-null  int64         \n",
      "dtypes: datetime64[ns](2), int64(3), object(1)\n",
      "memory usage: 16.2+ MB\n"
     ]
    },
    {
     "data": {
      "text/html": [
       "<div>\n",
       "<style scoped>\n",
       "    .dataframe tbody tr th:only-of-type {\n",
       "        vertical-align: middle;\n",
       "    }\n",
       "\n",
       "    .dataframe tbody tr th {\n",
       "        vertical-align: top;\n",
       "    }\n",
       "\n",
       "    .dataframe thead th {\n",
       "        text-align: right;\n",
       "    }\n",
       "</style>\n",
       "<table border=\"1\" class=\"dataframe\">\n",
       "  <thead>\n",
       "    <tr style=\"text-align: right;\">\n",
       "      <th></th>\n",
       "      <th>mdy</th>\n",
       "      <th>date</th>\n",
       "      <th>content</th>\n",
       "      <th>likes</th>\n",
       "      <th>retweets</th>\n",
       "      <th>Sentiment</th>\n",
       "    </tr>\n",
       "  </thead>\n",
       "  <tbody>\n",
       "    <tr>\n",
       "      <th>0</th>\n",
       "      <td>2023-06-03</td>\n",
       "      <td>2023-03-06 23:58:49</td>\n",
       "      <td>girl explain bitcoin</td>\n",
       "      <td>501</td>\n",
       "      <td>140</td>\n",
       "      <td>1</td>\n",
       "    </tr>\n",
       "    <tr>\n",
       "      <th>1</th>\n",
       "      <td>2023-06-03</td>\n",
       "      <td>2023-03-06 23:58:07</td>\n",
       "      <td>roughly hour leave pulsechain testnet fully sy...</td>\n",
       "      <td>32</td>\n",
       "      <td>1</td>\n",
       "      <td>1</td>\n",
       "    </tr>\n",
       "    <tr>\n",
       "      <th>2</th>\n",
       "      <td>2023-06-03</td>\n",
       "      <td>2023-03-06 23:57:47</td>\n",
       "      <td>come join conversation bitcoin fix hood americ...</td>\n",
       "      <td>24</td>\n",
       "      <td>1</td>\n",
       "      <td>1</td>\n",
       "    </tr>\n",
       "    <tr>\n",
       "      <th>3</th>\n",
       "      <td>2023-06-03</td>\n",
       "      <td>2023-03-06 23:54:57</td>\n",
       "      <td>get haircut pay bitcoin feel good always offer...</td>\n",
       "      <td>14</td>\n",
       "      <td>0</td>\n",
       "      <td>1</td>\n",
       "    </tr>\n",
       "    <tr>\n",
       "      <th>4</th>\n",
       "      <td>2023-06-03</td>\n",
       "      <td>2023-03-06 23:54:52</td>\n",
       "      <td>bitcoin usd weekly wrong bearish rising wedge ...</td>\n",
       "      <td>721</td>\n",
       "      <td>65</td>\n",
       "      <td>0</td>\n",
       "    </tr>\n",
       "  </tbody>\n",
       "</table>\n",
       "</div>"
      ],
      "text/plain": [
       "         mdy                date  \\\n",
       "0 2023-06-03 2023-03-06 23:58:49   \n",
       "1 2023-06-03 2023-03-06 23:58:07   \n",
       "2 2023-06-03 2023-03-06 23:57:47   \n",
       "3 2023-06-03 2023-03-06 23:54:57   \n",
       "4 2023-06-03 2023-03-06 23:54:52   \n",
       "\n",
       "                                             content  likes  retweets  \\\n",
       "0                               girl explain bitcoin    501       140   \n",
       "1  roughly hour leave pulsechain testnet fully sy...     32         1   \n",
       "2  come join conversation bitcoin fix hood americ...     24         1   \n",
       "3  get haircut pay bitcoin feel good always offer...     14         0   \n",
       "4  bitcoin usd weekly wrong bearish rising wedge ...    721        65   \n",
       "\n",
       "   Sentiment  \n",
       "0          1  \n",
       "1          1  \n",
       "2          1  \n",
       "3          1  \n",
       "4          0  "
      ]
     },
     "execution_count": 7,
     "metadata": {},
     "output_type": "execute_result"
    }
   ],
   "source": [
    "df.info()\n",
    "df.head()"
   ]
  },
  {
   "cell_type": "markdown",
   "id": "4af592c4-5262-445e-b835-9df037101085",
   "metadata": {},
   "source": [
    "### Extracting the Year, Month, Day, Hour, Minute and Second (features) from the dataset-"
   ]
  },
  {
   "cell_type": "code",
   "execution_count": 8,
   "id": "43284889-749a-4f4f-9a6d-ec79732adeb1",
   "metadata": {},
   "outputs": [],
   "source": [
    "date = df['date']\n",
    "dt = date.dt\n",
    "y, m, d, h, m, s = dt.year, dt.month, dt.day, dt. hour, dt.minute, dt.second"
   ]
  },
  {
   "cell_type": "markdown",
   "id": "71a006cb-b4c2-4c40-b4a9-4e325ccd9a6b",
   "metadata": {},
   "source": [
    "### Extracting the Likes, Retweets (features) and Sentiment (Target Variable) from the dataset-"
   ]
  },
  {
   "cell_type": "code",
   "execution_count": 9,
   "id": "e03382dc-b2ce-47d2-8ada-c5091750f9d6",
   "metadata": {},
   "outputs": [],
   "source": [
    "likes, retweets = df['likes'], df['retweets']\n",
    "sentiment = df['Sentiment']"
   ]
  },
  {
   "cell_type": "markdown",
   "id": "91bb72a9-3a5d-4878-9944-e4e4b8e6cbfe",
   "metadata": {},
   "source": [
    "### Grouping the Input Features and Target Variable respectively-"
   ]
  },
  {
   "cell_type": "code",
   "execution_count": 10,
   "id": "3d2c2854-e7e2-436d-8643-cd72085d6e62",
   "metadata": {},
   "outputs": [],
   "source": [
    "X = np.array([y, m, d, h, m, s, likes, retweets])\n",
    "Y = np.array(sentiment)"
   ]
  },
  {
   "cell_type": "code",
   "execution_count": 11,
   "id": "96f90d61-3539-4449-ba1b-d202e508ce9d",
   "metadata": {},
   "outputs": [
    {
     "data": {
      "text/plain": [
       "((354893, 8), (354893,))"
      ]
     },
     "execution_count": 11,
     "metadata": {},
     "output_type": "execute_result"
    }
   ],
   "source": [
    "X.T.shape, Y.shape"
   ]
  },
  {
   "cell_type": "markdown",
   "id": "76ab721b-afb5-4e53-bb07-58ef765776f3",
   "metadata": {},
   "source": [
    "### Making a list of Machine Learning model constructors-"
   ]
  },
  {
   "cell_type": "code",
   "execution_count": 12,
   "id": "2235ad16-6616-4525-96f6-ed2d0513efb0",
   "metadata": {},
   "outputs": [],
   "source": [
    "model_list = [LinearRegression(), RandomForestRegressor(n_estimators=10)]"
   ]
  },
  {
   "cell_type": "markdown",
   "id": "37ce78d7-a2e8-4cb2-a293-4e640f182822",
   "metadata": {},
   "source": [
    "### Training a selected Machine Learning model over the data-"
   ]
  },
  {
   "cell_type": "code",
   "execution_count": 13,
   "id": "a1501527-29ca-4cb8-a318-e66864b71fc0",
   "metadata": {},
   "outputs": [
    {
     "data": {
      "text/html": [
       "<style>#sk-container-id-1 {color: black;}#sk-container-id-1 pre{padding: 0;}#sk-container-id-1 div.sk-toggleable {background-color: white;}#sk-container-id-1 label.sk-toggleable__label {cursor: pointer;display: block;width: 100%;margin-bottom: 0;padding: 0.3em;box-sizing: border-box;text-align: center;}#sk-container-id-1 label.sk-toggleable__label-arrow:before {content: \"▸\";float: left;margin-right: 0.25em;color: #696969;}#sk-container-id-1 label.sk-toggleable__label-arrow:hover:before {color: black;}#sk-container-id-1 div.sk-estimator:hover label.sk-toggleable__label-arrow:before {color: black;}#sk-container-id-1 div.sk-toggleable__content {max-height: 0;max-width: 0;overflow: hidden;text-align: left;background-color: #f0f8ff;}#sk-container-id-1 div.sk-toggleable__content pre {margin: 0.2em;color: black;border-radius: 0.25em;background-color: #f0f8ff;}#sk-container-id-1 input.sk-toggleable__control:checked~div.sk-toggleable__content {max-height: 200px;max-width: 100%;overflow: auto;}#sk-container-id-1 input.sk-toggleable__control:checked~label.sk-toggleable__label-arrow:before {content: \"▾\";}#sk-container-id-1 div.sk-estimator input.sk-toggleable__control:checked~label.sk-toggleable__label {background-color: #d4ebff;}#sk-container-id-1 div.sk-label input.sk-toggleable__control:checked~label.sk-toggleable__label {background-color: #d4ebff;}#sk-container-id-1 input.sk-hidden--visually {border: 0;clip: rect(1px 1px 1px 1px);clip: rect(1px, 1px, 1px, 1px);height: 1px;margin: -1px;overflow: hidden;padding: 0;position: absolute;width: 1px;}#sk-container-id-1 div.sk-estimator {font-family: monospace;background-color: #f0f8ff;border: 1px dotted black;border-radius: 0.25em;box-sizing: border-box;margin-bottom: 0.5em;}#sk-container-id-1 div.sk-estimator:hover {background-color: #d4ebff;}#sk-container-id-1 div.sk-parallel-item::after {content: \"\";width: 100%;border-bottom: 1px solid gray;flex-grow: 1;}#sk-container-id-1 div.sk-label:hover label.sk-toggleable__label {background-color: #d4ebff;}#sk-container-id-1 div.sk-serial::before {content: \"\";position: absolute;border-left: 1px solid gray;box-sizing: border-box;top: 0;bottom: 0;left: 50%;z-index: 0;}#sk-container-id-1 div.sk-serial {display: flex;flex-direction: column;align-items: center;background-color: white;padding-right: 0.2em;padding-left: 0.2em;position: relative;}#sk-container-id-1 div.sk-item {position: relative;z-index: 1;}#sk-container-id-1 div.sk-parallel {display: flex;align-items: stretch;justify-content: center;background-color: white;position: relative;}#sk-container-id-1 div.sk-item::before, #sk-container-id-1 div.sk-parallel-item::before {content: \"\";position: absolute;border-left: 1px solid gray;box-sizing: border-box;top: 0;bottom: 0;left: 50%;z-index: -1;}#sk-container-id-1 div.sk-parallel-item {display: flex;flex-direction: column;z-index: 1;position: relative;background-color: white;}#sk-container-id-1 div.sk-parallel-item:first-child::after {align-self: flex-end;width: 50%;}#sk-container-id-1 div.sk-parallel-item:last-child::after {align-self: flex-start;width: 50%;}#sk-container-id-1 div.sk-parallel-item:only-child::after {width: 0;}#sk-container-id-1 div.sk-dashed-wrapped {border: 1px dashed gray;margin: 0 0.4em 0.5em 0.4em;box-sizing: border-box;padding-bottom: 0.4em;background-color: white;}#sk-container-id-1 div.sk-label label {font-family: monospace;font-weight: bold;display: inline-block;line-height: 1.2em;}#sk-container-id-1 div.sk-label-container {text-align: center;}#sk-container-id-1 div.sk-container {/* jupyter's `normalize.less` sets `[hidden] { display: none; }` but bootstrap.min.css set `[hidden] { display: none !important; }` so we also need the `!important` here to be able to override the default hidden behavior on the sphinx rendered scikit-learn.org. See: https://github.com/scikit-learn/scikit-learn/issues/21755 */display: inline-block !important;position: relative;}#sk-container-id-1 div.sk-text-repr-fallback {display: none;}</style><div id=\"sk-container-id-1\" class=\"sk-top-container\"><div class=\"sk-text-repr-fallback\"><pre>RandomForestRegressor(n_estimators=10)</pre><b>In a Jupyter environment, please rerun this cell to show the HTML representation or trust the notebook. <br />On GitHub, the HTML representation is unable to render, please try loading this page with nbviewer.org.</b></div><div class=\"sk-container\" hidden><div class=\"sk-item\"><div class=\"sk-estimator sk-toggleable\"><input class=\"sk-toggleable__control sk-hidden--visually\" id=\"sk-estimator-id-1\" type=\"checkbox\" checked><label for=\"sk-estimator-id-1\" class=\"sk-toggleable__label sk-toggleable__label-arrow\">RandomForestRegressor</label><div class=\"sk-toggleable__content\"><pre>RandomForestRegressor(n_estimators=10)</pre></div></div></div></div></div>"
      ],
      "text/plain": [
       "RandomForestRegressor(n_estimators=10)"
      ]
     },
     "execution_count": 13,
     "metadata": {},
     "output_type": "execute_result"
    }
   ],
   "source": [
    "model = model_list[1]\n",
    "model.fit(X.T, Y)"
   ]
  },
  {
   "cell_type": "markdown",
   "id": "d9b022a1-3bc2-4624-8db1-645dadbcc526",
   "metadata": {},
   "source": [
    "### Taking user inputs and storing them into an array-"
   ]
  },
  {
   "cell_type": "code",
   "execution_count": 14,
   "id": "26565f60-81df-436e-b50f-271fcb04520e",
   "metadata": {},
   "outputs": [
    {
     "name": "stdin",
     "output_type": "stream",
     "text": [
      "Please Enter the Year:  2003\n",
      "Please Enter the Month:  7\n",
      "Please Enter the Day:  19\n",
      "Please Enter the Hour:  14\n",
      "Please Enter the Minute:  6\n",
      "Please Enter the Second:  32\n",
      "Please Enter the Number of Likes:  198\n",
      "Please Enter the Number of Retweets:  423\n"
     ]
    }
   ],
   "source": [
    "inp_year, inp_month, inp_day, inp_hr, inp_min, inp_sec = [int(input(f'Please Enter the {i}: ')) for i in ('Year', 'Month', 'Day', \n",
    "                                                                                                          'Hour', 'Minute', 'Second')]\n",
    "\n",
    "inp_likes, inp_retweets = [int(input(f'Please Enter the Number of {i}: ')) for i in ('Likes', 'Retweets')]\n",
    "\n",
    "X_pred = np.array([inp_year, inp_month, inp_day, inp_hr, inp_min, inp_sec, inp_likes, inp_retweets])"
   ]
  },
  {
   "cell_type": "markdown",
   "id": "bedda476-4e85-4578-9a2c-028c4a3288e2",
   "metadata": {},
   "source": [
    "### Making predictions for the input features-"
   ]
  },
  {
   "cell_type": "code",
   "execution_count": 15,
   "id": "58612423-7322-4c0d-a116-834cd82d0a5a",
   "metadata": {},
   "outputs": [],
   "source": [
    "Y_pred = model.predict([X_pred])"
   ]
  },
  {
   "cell_type": "markdown",
   "id": "01807ef6-6765-4739-a554-be070668c350",
   "metadata": {},
   "source": [
    "### Manually decoding the pre-encoded prediction outputs-"
   ]
  },
  {
   "cell_type": "code",
   "execution_count": 16,
   "id": "475ffb8e-47d2-438c-b9e5-2687070efd36",
   "metadata": {},
   "outputs": [],
   "source": [
    "Y_pred_decoded = '+ve(up)' if Y_pred == 1 else '-ve(down)' + ' market sentiment'"
   ]
  },
  {
   "cell_type": "code",
   "execution_count": 17,
   "id": "b3945307-d27f-4726-814c-7e306f631be2",
   "metadata": {},
   "outputs": [
    {
     "data": {
      "text/plain": [
       "'+ve(up)'"
      ]
     },
     "execution_count": 17,
     "metadata": {},
     "output_type": "execute_result"
    }
   ],
   "source": [
    "Y_pred_decoded"
   ]
  },
  {
   "cell_type": "markdown",
   "id": "443dc619-e8ad-49e1-9f1f-2fc2b622d2a5",
   "metadata": {},
   "source": [
    "### Printing the Output results in a comprehendable format-"
   ]
  },
  {
   "cell_type": "code",
   "execution_count": 18,
   "id": "6a262698-6f27-4744-b34d-7cc3f436ef19",
   "metadata": {},
   "outputs": [
    {
     "name": "stdout",
     "output_type": "stream",
     "text": [
      "Bitcoin(BTC) has a +ve(up).\n"
     ]
    }
   ],
   "source": [
    "print(f'Bitcoin(BTC) has a {Y_pred_decoded}.')"
   ]
  },
  {
   "cell_type": "code",
   "execution_count": null,
   "id": "d2ae51b4-0582-42ee-937f-26621b40a3c0",
   "metadata": {},
   "outputs": [],
   "source": []
  },
  {
   "cell_type": "code",
   "execution_count": null,
   "id": "b6b72b26-3589-4bbe-8fe1-444ce843ec27",
   "metadata": {},
   "outputs": [],
   "source": []
  },
  {
   "cell_type": "code",
   "execution_count": null,
   "id": "1d31d8cd-cacf-419d-8aca-33182e66d8ec",
   "metadata": {},
   "outputs": [],
   "source": []
  }
 ],
 "metadata": {
  "kernelspec": {
   "display_name": "Python 3 (ipykernel)",
   "language": "python",
   "name": "python3"
  },
  "language_info": {
   "codemirror_mode": {
    "name": "ipython",
    "version": 3
   },
   "file_extension": ".py",
   "mimetype": "text/x-python",
   "name": "python",
   "nbconvert_exporter": "python",
   "pygments_lexer": "ipython3",
   "version": "3.11.0"
  }
 },
 "nbformat": 4,
 "nbformat_minor": 5
}
